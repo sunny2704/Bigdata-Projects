{
 "cells": [
  {
   "cell_type": "code",
   "execution_count": 4,
   "metadata": {},
   "outputs": [
    {
     "name": "stdout",
     "output_type": "stream",
     "text": [
      "(0, {3527539})\n",
      "('1 1:1 3:1 4:-0.02401 5:0.9414 6:0.06531 7:0.92106 8:-0.23255 9:0.77152 10:-0.16399 11:0.52798 12:-0.20275 13:0.56409 14:-0.00712 15:0.34395 16:-0.27457 17:0.5294 18:-0.2178 19:0.45107 20:-0.17813 21:0.05982 22:-0.35575 23:0.02309 24:-0.52879 25:0.03286 26:-0.65158 27:0.1329 28:-0.53206 29:0.02431 30:-0.62197 31:-0.05707 32:-0.59573 33:-0.04608 34:-0.65697 ', {3527539})\n",
      "% of correctly placed points =  100.0\n"
     ]
    }
   ],
   "source": [
    "import pyspark\n",
    "from pyspark.context import SparkContext\n",
    "from pyspark import SparkConf\n",
    "from numpy import array\n",
    "from pyspark.mllib.clustering import KMeans, KMeansModel\n",
    "# conf = SparkConf()\n",
    "# sc = SparkContext(conf = conf)\n",
    "# sc.setLogLevel(\"ERROR\")\n",
    "f = sc.textFile(\"ionosphere_libsvm.txt\")\n",
    "firstline = f.first()\n",
    "data = f.filter(lambda x: x!= firstline).map(lambda line:line.split(\",\")).map(lambda x:[float(y) if type(y) is float else y for y in x])\n",
    "\n",
    "model = KMeans.train(data.map(lambda x:x[1:]), 3, maxIterations=100, initializationMode=\"random\")\n",
    "clustered = data.map(lambda x:(model.predict(array(x[1:])),x))\n",
    "clusters = clustered.map(lambda p_d:(p_d[0],hash(tuple(p_d[1][1:])))).groupByKey().map(lambda x_y:(x_y[0],set(x_y[1])))\n",
    "print(clusters.first())\n",
    "ground = data.map(lambda x:(x[0],hash(tuple(x[1:])))).groupByKey().map(lambda x_y1:(x_y1[0],set(x_y1[1])))\n",
    "print(ground.first())\n",
    "#initialization \n",
    "obtained = []\n",
    "for k,v in clusters.collect():\n",
    "    obtained.append(v)\n",
    "truth = []\n",
    "for k,v in ground.collect():\n",
    "    truth.append(v)\n",
    "\n",
    "#This is my definition of measure, with its change, the results may change\n",
    "def measure(s,t):\n",
    "    #s,t are sets\n",
    "    left = float(len(s-t))/len(s)\n",
    "    right = float(len(t-s))/len(t)\n",
    "    return left+right \n",
    "total = data.count()\n",
    "misplaced = 0\n",
    "\n",
    "while truth and obtained: \n",
    "    minimum = total\n",
    "    for i,s in enumerate(truth):\n",
    "        for j,t in enumerate(obtained):\n",
    "            m = measure(s,t)\n",
    "            if minimum > m:\n",
    "                minimum = m\n",
    "                assignment = (i,j)\n",
    "    misplaced += len(obtained[assignment[1]]-truth[assignment[0]])\n",
    "\n",
    "    del obtained[assignment[1]]\n",
    "    del truth[assignment[0]]\n",
    "print(\"% of correctly placed points = \",(float(total-misplaced)/total)*100)#,misplaced\n",
    "sc.stop()"
   ]
  },
  {
   "cell_type": "code",
   "execution_count": null,
   "metadata": {},
   "outputs": [],
   "source": []
  },
  {
   "cell_type": "code",
   "execution_count": null,
   "metadata": {},
   "outputs": [],
   "source": []
  },
  {
   "cell_type": "code",
   "execution_count": null,
   "metadata": {},
   "outputs": [],
   "source": []
  }
 ],
 "metadata": {
  "kernelspec": {
   "display_name": "Python 3",
   "language": "python",
   "name": "python3"
  },
  "language_info": {
   "codemirror_mode": {
    "name": "ipython",
    "version": 3
   },
   "file_extension": ".py",
   "mimetype": "text/x-python",
   "name": "python",
   "nbconvert_exporter": "python",
   "pygments_lexer": "ipython3",
   "version": "3.6.7"
  }
 },
 "nbformat": 4,
 "nbformat_minor": 2
}
